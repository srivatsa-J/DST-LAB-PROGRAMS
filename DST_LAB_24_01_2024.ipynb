{
  "nbformat": 4,
  "nbformat_minor": 0,
  "metadata": {
    "colab": {
      "provenance": [],
      "toc_visible": true
    },
    "kernelspec": {
      "name": "python3",
      "display_name": "Python 3"
    },
    "language_info": {
      "name": "python"
    }
  },
  "cells": [
    {
      "cell_type": "code",
      "execution_count": 15,
      "metadata": {
        "colab": {
          "base_uri": "https://localhost:8080/"
        },
        "id": "m7gKDN9liyVu",
        "outputId": "8e7f769b-ab65-45e5-f721-b9e08a7792ed"
      },
      "outputs": [
        {
          "output_type": "stream",
          "name": "stdout",
          "text": [
            "given infix expression (a+b)*c+d\n",
            "postfix expression ab+c*d+\n"
          ]
        }
      ],
      "source": [
        "def operator(char):\n",
        "  return char in ('+','-','*','/')\n",
        "def precendence(operator):\n",
        "  if operator == '+' or operator=='-':\n",
        "    return 1\n",
        "  elif operator=='*' or operator=='/':\n",
        "    return 2\n",
        "  else:\n",
        "    return 0\n",
        "def infixtopostfix(infixexp):\n",
        "  stack=[]\n",
        "  postfixexp=[]\n",
        "  for char in infixexp:\n",
        "    if char.isalnum():\n",
        "      postfixexp.append(char)\n",
        "    elif char=='(':\n",
        "      stack.append(char)\n",
        "    elif char==')':\n",
        "      while stack and stack[-1] != '(':\n",
        "        postfixexp.append(stack.pop())\n",
        "      stack.pop()\n",
        "    elif operator(char):\n",
        "      while stack and precendence(stack[-1])>=precendence(char):\n",
        "        postfixexp.append(stack.pop())\n",
        "      stack.append(char)\n",
        "  while stack:\n",
        "    postfixexp.append(stack.pop())\n",
        "  return ''.join(postfixexp)\n",
        "infixexpression=\"(a+b)*c+d\"\n",
        "p1=infixtopostfix(infixexpression)\n",
        "print(\"given infix expression\",infixexpression)\n",
        "print(\"postfix expression\",p1)"
      ]
    },
    {
      "cell_type": "code",
      "source": [
        "def is_operand(char):\n",
        "    return char.isalnum()\n",
        "\n",
        "def evaluate_postfix(postfix_expression):\n",
        "    stack = []\n",
        "\n",
        "    for char in postfix_expression:\n",
        "        if is_operand(char):\n",
        "            stack.append(float(char))\n",
        "        else:\n",
        "\n",
        "            operand2 = stack.pop()\n",
        "            operand1 = stack.pop()\n",
        "\n",
        "            if char == '+':\n",
        "                result = operand1 + operand2\n",
        "            elif char == '-':\n",
        "                result = operand1 - operand2\n",
        "            elif char == '*':\n",
        "                result = operand1 * operand2\n",
        "            elif char == '/':\n",
        "                result = operand1 / operand2\n",
        "\n",
        "            stack.append(result)\n",
        "\n",
        "    return stack.pop()\n",
        "postfix_expression = \"1020*5+\"\n",
        "result = evaluate_postfix(postfix_expression)\n",
        "print(\"Postfix Expression:\", postfix_expression)\n",
        "print(\"Result:\", result)"
      ],
      "metadata": {
        "colab": {
          "base_uri": "https://localhost:8080/"
        },
        "id": "sfSYyNGp4BLj",
        "outputId": "2c5ee8a1-572e-46ed-b4fe-e514065764a7"
      },
      "execution_count": 14,
      "outputs": [
        {
          "output_type": "stream",
          "name": "stdout",
          "text": [
            "Postfix Expression: 1020*5+\n",
            "Result: 5.0\n"
          ]
        }
      ]
    },
    {
      "cell_type": "code",
      "source": [
        "def fib(n):\n",
        "  if(n==0):\n",
        "    print(\"invalid input\")\n",
        "  elif(n==1):\n",
        "    return 0\n",
        "  elif n==2:\n",
        "    return 1\n",
        "  else:\n",
        "    return fib(n-1)+fib(n-2)\n",
        "n=int(input(\"enter number of terms of fib series\"))\n",
        "print(fib(n))"
      ],
      "metadata": {
        "colab": {
          "base_uri": "https://localhost:8080/"
        },
        "id": "Yho5OGXHpXew",
        "outputId": "4e8833be-0657-4da5-bdf5-7728d114007c"
      },
      "execution_count": 7,
      "outputs": [
        {
          "output_type": "stream",
          "name": "stdout",
          "text": [
            "enter number of terms of fib series5\n",
            "3\n"
          ]
        }
      ]
    },
    {
      "cell_type": "code",
      "source": [
        "def fib(n):\n",
        "    a, b = 0, 1\n",
        "    if n == 1:\n",
        "        print(0)\n",
        "    elif n == 2:\n",
        "        print(1)\n",
        "    else:\n",
        "        for _ in range(2, n):\n",
        "            a, b = b, a + b\n",
        "            print(b)\n",
        "\n",
        "n = int(input(\"Enter the value of n: \"))\n",
        "fib(n)\n",
        "\n"
      ],
      "metadata": {
        "colab": {
          "base_uri": "https://localhost:8080/"
        },
        "id": "pLV0okJ8r-lA",
        "outputId": "1f8a6e24-66b5-4e93-850f-cb3ec52bafab"
      },
      "execution_count": 12,
      "outputs": [
        {
          "output_type": "stream",
          "name": "stdout",
          "text": [
            "Enter the value of n: 5\n",
            "1\n",
            "2\n",
            "3\n"
          ]
        }
      ]
    }
  ]
}